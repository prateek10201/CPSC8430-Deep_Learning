{
 "cells": [
  {
   "cell_type": "code",
   "execution_count": 1,
   "id": "a611b84b-fe03-491a-a5f7-5f145292e241",
   "metadata": {
    "tags": []
   },
   "outputs": [
    {
     "name": "stderr",
     "output_type": "stream",
     "text": [
      "/software/slurm/spackages/linux-rocky8-x86_64/gcc-12.2.0/anaconda3-2023.09-0-3mhml42fa64byxqyd5fig5tbih625dp2/lib/python3.11/site-packages/transformers/utils/generic.py:260: FutureWarning: `torch.utils._pytree._register_pytree_node` is deprecated. Please use `torch.utils._pytree.register_pytree_node` instead.\n",
      "  torch.utils._pytree._register_pytree_node(\n"
     ]
    }
   ],
   "source": [
    "#Imports \n",
    "\n",
    "import os\n",
    "os.environ[\"TOKENIZERS_PARALLELISM\"] = \"false\"\n",
    "\n",
    "import torch\n",
    "from torch.utils.data import Dataset, DataLoader\n",
    "from transformers import BertTokenizerFast, BertForQuestionAnswering, get_scheduler\n",
    "from torch.optim import AdamW\n",
    "from tqdm import tqdm\n",
    "import json\n",
    "import numpy as np\n",
    "import matplotlib.pyplot as plt\n",
    "from collections import Counter\n",
    "import re"
   ]
  },
  {
   "cell_type": "code",
   "execution_count": 2,
   "id": "d4e6b14a-d11b-4bbe-8656-043b0f11b2d5",
   "metadata": {
    "tags": []
   },
   "outputs": [],
   "source": [
    "# Dataset Class\n",
    "\n",
    "class QADataset(Dataset):  \n",
    "    def __init__(self, encoded_data):  \n",
    "        self.input_ids = torch.tensor(encoded_data['input_ids'])\n",
    "        self.token_type_ids = torch.tensor(encoded_data['token_type_ids'])\n",
    "        self.attention_mask = torch.tensor(encoded_data['attention_mask'])\n",
    "        self.start_positions = torch.tensor(encoded_data['start_positions'])\n",
    "        self.end_positions = torch.tensor(encoded_data['end_positions'])\n",
    "    \n",
    "    def __getitem__(self, idx):\n",
    "        return {\n",
    "            'input_ids': self.input_ids[idx],\n",
    "            'token_type_ids': self.token_type_ids[idx],\n",
    "            'attention_mask': self.attention_mask[idx],\n",
    "            'start_positions': self.start_positions[idx],\n",
    "            'end_positions': self.end_positions[idx]\n",
    "        }\n",
    "    \n",
    "    def __len__(self):\n",
    "        return len(self.input_ids)"
   ]
  },
  {
   "cell_type": "code",
   "execution_count": 3,
   "id": "b7c9746d-6f8b-4e4d-b77f-66fcb0807e81",
   "metadata": {
    "tags": []
   },
   "outputs": [],
   "source": [
    "# Functions to calculate F1 score and Exact Match Score\n",
    "\n",
    "def clean_text(text): \n",
    "    text = text.lower()\n",
    "    text = re.sub(r'\\s+', ' ', text).strip()\n",
    "    text = re.sub(r'[^a-z0-9\\s]', '', text)\n",
    "    return text\n",
    "\n",
    "def calculate_exact_match(pred_text, ref_text):  # Changed from compute_exact_match\n",
    "    return float(clean_text(pred_text) == clean_text(ref_text))\n",
    "\n",
    "def calculate_f1_score(pred_text, ref_text):  # Changed from compute_f1\n",
    "    pred_tokens = clean_text(pred_text).split()\n",
    "    ref_tokens = clean_text(ref_text).split()\n",
    "    \n",
    "    if len(pred_tokens) == 0 or len(ref_tokens) == 0:\n",
    "        return 0.0\n",
    "    \n",
    "    common = Counter(pred_tokens) & Counter(ref_tokens)\n",
    "    num_same = sum(common.values())\n",
    "    \n",
    "    if num_same == 0:\n",
    "        return 0.0\n",
    "        \n",
    "    precision = num_same / len(pred_tokens)\n",
    "    recall = num_same / len(ref_tokens)\n",
    "    \n",
    "    if precision + recall == 0:\n",
    "        return 0.0\n",
    "    f1 = 2.0 * precision * recall / (precision + recall)\n",
    "    return f1"
   ]
  },
  {
   "cell_type": "code",
   "execution_count": 4,
   "id": "dcab9c9b-de73-4ae7-b022-9a6f8e227db2",
   "metadata": {
    "tags": []
   },
   "outputs": [],
   "source": [
    "# Helper functions to read the json files, to fetch the data\n",
    "\n",
    "def load_qa_data(file_path):  \n",
    "    with open(file_path, 'rb') as f:\n",
    "        raw_data = json.load(f)\n",
    "    \n",
    "    contexts, questions, answers = [], [], []\n",
    "    for group in raw_data['data']:\n",
    "        for para in group['paragraphs']:\n",
    "            context = para['context'].lower()\n",
    "            for qa in para['qas']:\n",
    "                question = qa['question'].lower()\n",
    "                for answer in qa['answers']:\n",
    "                    contexts.append(context)\n",
    "                    questions.append(question)\n",
    "                    answer['text'] = answer['text'].lower()\n",
    "                    answers.append(answer)\n",
    "    return contexts, questions, answers\n",
    "\n",
    "def update_answer_boundaries(answers, contexts): \n",
    "    for answer, context in zip(answers, contexts):\n",
    "        answer_text = answer['text']\n",
    "        start_pos = answer['answer_start']\n",
    "        end_pos = start_pos + len(answer_text)\n",
    "\n",
    "        if context[start_pos:end_pos] == answer_text:\n",
    "            answer['answer_end'] = end_pos\n",
    "        else:\n",
    "            for offset in [1, 2]:\n",
    "                if context[start_pos - offset:end_pos - offset] == answer_text:\n",
    "                    answer['answer_start'] = start_pos - offset\n",
    "                    answer['answer_end'] = end_pos - offset\n",
    "                    break"
   ]
  },
  {
   "cell_type": "code",
   "execution_count": 5,
   "id": "c87f2215-aa5e-4fab-b7a1-d904e65b1e5d",
   "metadata": {},
   "outputs": [],
   "source": [
    "# Helper function which helps in tokenization\n",
    "\n",
    "def locate_answer_spans(encoded_data, answers, tokenizer, max_length):\n",
    "    start_spans = []\n",
    "    end_spans = []\n",
    "\n",
    "    for idx in range(len(encoded_data['input_ids'])):\n",
    "        answer_text = answers[idx]['text']\n",
    "        answer_tokens = tokenizer(answer_text, max_length=max_length, truncation=True, padding=True)\n",
    "\n",
    "        span_found = False\n",
    "        for pos in range(len(encoded_data['input_ids'][idx]) - len(answer_tokens['input_ids'])):\n",
    "            is_match = True\n",
    "            for i in range(1, len(answer_tokens['input_ids'])-1):\n",
    "                if answer_tokens['input_ids'][i] != encoded_data['input_ids'][idx][pos + i]:\n",
    "                    is_match = False\n",
    "                    break\n",
    "            if is_match:\n",
    "                start_spans.append(pos)\n",
    "                end_spans.append(pos + len(answer_tokens['input_ids']) - 1)\n",
    "                span_found = True\n",
    "                break\n",
    "        if not span_found:\n",
    "            start_spans.append(0)\n",
    "            end_spans.append(0)\n",
    "\n",
    "    return start_spans, end_spans"
   ]
  },
  {
   "cell_type": "code",
   "execution_count": 6,
   "id": "cdef68c9-96b8-4bc3-bcc1-8de38a502b2f",
   "metadata": {},
   "outputs": [],
   "source": [
    "# Function used to train the model\n",
    "\n",
    "def train_qa_model(model, data_loader, device, num_epochs):  \n",
    "    model.to(device)\n",
    "    model.train()\n",
    "    \n",
    "    optimizer = AdamW(model.parameters(), lr=2e-5, weight_decay=2e-2)\n",
    "    total_steps = num_epochs * len(data_loader)\n",
    "    scheduler = get_scheduler(\n",
    "        \"linear\",\n",
    "        optimizer=optimizer,\n",
    "        num_warmup_steps=0,\n",
    "        num_training_steps=total_steps,\n",
    "    )\n",
    "    \n",
    "    metrics = {'loss': [], 'accuracy': []}  # Changed from history\n",
    "    \n",
    "    for epoch in range(num_epochs):\n",
    "        epoch_losses = []\n",
    "        epoch_accuracies = []\n",
    "        with tqdm(data_loader, desc=f'Epoch {epoch+1}') as progress_bar:\n",
    "            for batch in progress_bar:\n",
    "                optimizer.zero_grad()\n",
    "                \n",
    "                input_ids = batch['input_ids'].to(device)\n",
    "                attention_mask = batch['attention_mask'].to(device)\n",
    "                token_type_ids = batch['token_type_ids'].to(device)\n",
    "                start_positions = batch['start_positions'].to(device)\n",
    "                end_positions = batch['end_positions'].to(device)\n",
    "                \n",
    "                outputs = model(input_ids, attention_mask=attention_mask,\n",
    "                              start_positions=start_positions,\n",
    "                              token_type_ids=token_type_ids,\n",
    "                              end_positions=end_positions)\n",
    "                \n",
    "                loss = outputs[0]\n",
    "                loss.backward()\n",
    "                optimizer.step()\n",
    "                scheduler.step()\n",
    "                \n",
    "                start_logits, end_logits = outputs[1], outputs[2]\n",
    "                start_pred = start_logits.argmax(dim=1)\n",
    "                end_pred = end_logits.argmax(dim=1)\n",
    "                batch_accuracy = ((start_pred == start_positions).float().mean() + \n",
    "                                (end_pred == end_positions).float().mean()) / 2\n",
    "                \n",
    "                epoch_losses.append(loss.item())\n",
    "                epoch_accuracies.append(batch_accuracy.item())\n",
    "                \n",
    "                progress_bar.set_postfix({\n",
    "                    'loss': f'{loss.item():.4f}',\n",
    "                    'accuracy': f'{batch_accuracy.item():.4f}',\n",
    "                    'lr': f'{scheduler.get_last_lr()[0]:.2e}'\n",
    "                })\n",
    "        \n",
    "        avg_loss = np.mean(epoch_losses)\n",
    "        avg_accuracy = np.mean(epoch_accuracies)\n",
    "        metrics['loss'].append(avg_loss)\n",
    "        metrics['accuracy'].append(avg_accuracy)\n",
    "        \n",
    "        print(f'Epoch {epoch + 1} - Avg Loss: {avg_loss:.4f}, Avg Accuracy: {avg_accuracy:.4f}')\n",
    "    \n",
    "    return metrics"
   ]
  },
  {
   "cell_type": "code",
   "execution_count": 7,
   "id": "ee2f45c8-478e-4a14-b1c6-14fdf8c7fb12",
   "metadata": {},
   "outputs": [],
   "source": [
    "# Evaluating the model\n",
    "\n",
    "def evaluate_qa_model(model, eval_loader, tokenizer, device): \n",
    "    model.eval()\n",
    "    all_predictions = []\n",
    "    all_references = []\n",
    "    top_n = 20  \n",
    "    max_span_length = 30  \n",
    "    \n",
    "    with torch.no_grad():\n",
    "        for batch in tqdm(eval_loader, desc='Evaluating'):\n",
    "            input_ids = batch['input_ids'].to(device)\n",
    "            attention_mask = batch['attention_mask'].to(device)\n",
    "            token_type_ids = batch['token_type_ids'].to(device)\n",
    "            start_positions = batch['start_positions'].to(device)\n",
    "            end_positions = batch['end_positions'].to(device)\n",
    "\n",
    "            outputs = model(input_ids, attention_mask=attention_mask,\n",
    "                          token_type_ids=token_type_ids,\n",
    "                          start_positions=start_positions,\n",
    "                          end_positions=end_positions)\n",
    "\n",
    "            start_logits, end_logits = outputs.start_logits, outputs.end_logits\n",
    "            \n",
    "            for i in range(len(input_ids)):\n",
    "                start_pred = torch.argmax(start_logits[i]).item()\n",
    "                end_pred = torch.argmax(end_logits[i]).item()\n",
    "                \n",
    "                # Skip invalid predictions\n",
    "                if start_pred > end_pred or end_pred - start_pred + 1 > max_span_length:\n",
    "                    predicted_text = \"\"\n",
    "                else:\n",
    "                    predicted_text = tokenizer.decode(\n",
    "                        input_ids[i][start_pred:end_pred + 1],\n",
    "                        skip_special_tokens=True\n",
    "                    )\n",
    "                \n",
    "                ref_start = batch['start_positions'][i].item()\n",
    "                ref_end = batch['end_positions'][i].item()\n",
    "                reference_text = tokenizer.decode(\n",
    "                    input_ids[i][ref_start:ref_end + 1],\n",
    "                    skip_special_tokens=True\n",
    "                )\n",
    "                \n",
    "                all_predictions.append(predicted_text)\n",
    "                all_references.append(reference_text)\n",
    "    \n",
    "\n",
    "    f1_scores = []\n",
    "    exact_match_scores = [] \n",
    "    \n",
    "    for pred, ref in zip(all_predictions, all_references):\n",
    "        if not pred.strip() or not ref.strip():\n",
    "            f1_scores.append(0.0)\n",
    "            exact_match_scores.append(0.0)\n",
    "            continue\n",
    "        \n",
    "        f1_scores.append(calculate_f1_score(pred, ref))\n",
    "        exact_match_scores.append(calculate_exact_match(pred, ref))\n",
    "    \n",
    "    return {\n",
    "        'f1': np.mean(f1_scores) * 100,\n",
    "        'exact_match': np.mean(exact_match_scores) * 100\n",
    "    }"
   ]
  },
  {
   "cell_type": "code",
   "execution_count": 8,
   "id": "d05e355c-d09c-455e-80a7-1b57a82b5d2b",
   "metadata": {},
   "outputs": [],
   "source": [
    "def plot_training_metrics(metrics): \n",
    "    plt.figure(figsize=(10, 5))\n",
    "    \n",
    "    plt.subplot(1, 2, 1)\n",
    "    plt.plot(metrics['loss'])\n",
    "    plt.title('Training Loss')\n",
    "    plt.xlabel('Epoch')\n",
    "    plt.ylabel('Loss')\n",
    "    \n",
    "    plt.subplot(1, 2, 2)\n",
    "    plt.plot(metrics['accuracy'])\n",
    "    plt.title('Training Accuracy')\n",
    "    plt.xlabel('Epoch')\n",
    "    plt.ylabel('Accuracy')\n",
    "    \n",
    "    plt.tight_layout()\n",
    "    plt.savefig('training_metrics_bert_docstride.png')\n",
    "    plt.show()\n",
    "    plt.close()"
   ]
  },
  {
   "cell_type": "code",
   "execution_count": 9,
   "id": "ba2c11c0-1f11-4122-941b-4ae72d4a8d9d",
   "metadata": {},
   "outputs": [
    {
     "name": "stdout",
     "output_type": "stream",
     "text": [
      "Using device: cuda\n"
     ]
    },
    {
     "name": "stderr",
     "output_type": "stream",
     "text": [
      "Some weights of BertForQuestionAnswering were not initialized from the model checkpoint at bert-base-uncased and are newly initialized: ['qa_outputs.weight', 'qa_outputs.bias']\n",
      "You should probably TRAIN this model on a down-stream task to be able to use it for predictions and inference.\n"
     ]
    },
    {
     "name": "stdout",
     "output_type": "stream",
     "text": [
      "Loading training data...\n",
      "Starting training...\n"
     ]
    },
    {
     "name": "stderr",
     "output_type": "stream",
     "text": [
      "Epoch 1: 100%|██████████| 2320/2320 [17:39<00:00,  2.19it/s, loss=2.2125, accuracy=0.4286, lr=1.50e-05]\n"
     ]
    },
    {
     "name": "stdout",
     "output_type": "stream",
     "text": [
      "Epoch 1 - Avg Loss: 1.9910, Avg Accuracy: 0.4807\n"
     ]
    },
    {
     "name": "stderr",
     "output_type": "stream",
     "text": [
      "Epoch 2: 100%|██████████| 2320/2320 [17:39<00:00,  2.19it/s, loss=1.3878, accuracy=0.5000, lr=1.00e-05]\n"
     ]
    },
    {
     "name": "stdout",
     "output_type": "stream",
     "text": [
      "Epoch 2 - Avg Loss: 1.1431, Avg Accuracy: 0.6639\n"
     ]
    },
    {
     "name": "stderr",
     "output_type": "stream",
     "text": [
      "Epoch 3: 100%|██████████| 2320/2320 [17:39<00:00,  2.19it/s, loss=0.7428, accuracy=0.7143, lr=5.00e-06]\n"
     ]
    },
    {
     "name": "stdout",
     "output_type": "stream",
     "text": [
      "Epoch 3 - Avg Loss: 0.7982, Avg Accuracy: 0.7454\n"
     ]
    },
    {
     "name": "stderr",
     "output_type": "stream",
     "text": [
      "Epoch 4: 100%|██████████| 2320/2320 [17:39<00:00,  2.19it/s, loss=0.3761, accuracy=0.9286, lr=0.00e+00]\n"
     ]
    },
    {
     "name": "stdout",
     "output_type": "stream",
     "text": [
      "Epoch 4 - Avg Loss: 0.6018, Avg Accuracy: 0.7999\n"
     ]
    },
    {
     "data": {
      "image/png": "[encoded data removed]",
      "text/plain": [
       "<Figure size 1000x500 with 2 Axes>"
      ]
     },
     "metadata": {},
     "output_type": "display_data"
    },
    {
     "name": "stdout",
     "output_type": "stream",
     "text": [
      "\n",
      "Evaluating on No Noise test set...\n"
     ]
    },
    {
     "name": "stderr",
     "output_type": "stream",
     "text": [
      "Evaluating: 100%|██████████| 993/993 [02:32<00:00,  6.50it/s]\n"
     ]
    },
    {
     "name": "stdout",
     "output_type": "stream",
     "text": [
      "Results for No Noise:\n",
      "F1 Score: 69.39%\n",
      "EM Score: 48.42%\n",
      "\n",
      "Evaluating on WER 44 test set...\n"
     ]
    },
    {
     "name": "stderr",
     "output_type": "stream",
     "text": [
      "Evaluating: 100%|██████████| 1116/1116 [02:51<00:00,  6.50it/s]\n"
     ]
    },
    {
     "name": "stdout",
     "output_type": "stream",
     "text": [
      "Results for WER 44:\n",
      "F1 Score: 38.04%\n",
      "EM Score: 26.53%\n",
      "\n",
      "Evaluating on WER 54 test set...\n"
     ]
    },
    {
     "name": "stderr",
     "output_type": "stream",
     "text": [
      "Evaluating: 100%|██████████| 1116/1116 [02:51<00:00,  6.50it/s]\n"
     ]
    },
    {
     "name": "stdout",
     "output_type": "stream",
     "text": [
      "Results for WER 54:\n",
      "F1 Score: 26.25%\n",
      "EM Score: 18.31%\n"
     ]
    }
   ],
   "source": [
    "device = torch.device('cuda' if torch.cuda.is_available() else 'cpu')\n",
    "print(f\"Using device: {device}\")\n",
    "\n",
    "# Configuration parameters\n",
    "MODEL_NAME = 'bert-base-uncased'\n",
    "MAX_SEQ_LENGTH = 512\n",
    "doc_stride = 128   # Key parameter for sliding window\n",
    "BATCH_SIZE = 16\n",
    "NUM_EPOCHS = 4\n",
    "\n",
    "# Initialize model and tokenizer\n",
    "tokenizer = BertTokenizerFast.from_pretrained(MODEL_NAME)\n",
    "model = BertForQuestionAnswering.from_pretrained(MODEL_NAME)\n",
    "\n",
    "# Load and preprocess training data\n",
    "print(\"Loading training data...\")\n",
    "contexts, questions, answers = load_qa_data('spoken_train-v1.1.json')\n",
    "update_answer_boundaries(answers, contexts)\n",
    "\n",
    "# Process training data with doc_stride\n",
    "train_encoded = tokenizer(\n",
    "    questions,\n",
    "    contexts,\n",
    "    max_length=MAX_SEQ_LENGTH,\n",
    "    truncation=True,\n",
    "    padding=True,\n",
    "    stride=doc_stride,  # Implementing sliding window with doc_stride\n",
    "    return_offsets_mapping=True,\n",
    "    return_token_type_ids=True\n",
    ")\n",
    "\n",
    "# Locate answer positions\n",
    "start_positions, end_positions = locate_answer_spans(\n",
    "    train_encoded, answers, tokenizer, MAX_SEQ_LENGTH\n",
    ")\n",
    "train_encoded['start_positions'] = start_positions\n",
    "train_encoded['end_positions'] = end_positions\n",
    "\n",
    "# Create dataset and dataloader\n",
    "train_dataset = QADataset(train_encoded)\n",
    "train_loader = DataLoader(train_dataset, batch_size=BATCH_SIZE, shuffle=True)\n",
    "\n",
    "# Train model\n",
    "print(\"Starting training...\")\n",
    "training_metrics = train_qa_model(model, train_loader, device, NUM_EPOCHS)\n",
    "plot_training_metrics(training_metrics)\n",
    "\n",
    "# Evaluation sets\n",
    "test_sets = [\n",
    "    ('No Noise', 'spoken_test-v1.1.json'),\n",
    "    ('WER 44', 'spoken_test-v1.1_WER44.json'),\n",
    "    ('WER 54', 'spoken_test-v1.1_WER54.json')\n",
    "]\n",
    "\n",
    "# Evaluate on test sets\n",
    "with open('qa_evaluation_results_bert_docstride.txt', 'w') as f:\n",
    "    f.write(\"BERT Question Answering Evaluation Results\\n\")\n",
    "    f.write(\"========================================\\n\\n\")\n",
    "    \n",
    "    for dataset_name, test_file in test_sets:\n",
    "        print(f\"\\nEvaluating on {dataset_name} test set...\")\n",
    "        test_contexts, test_questions, test_answers = load_qa_data(test_file)\n",
    "        update_answer_boundaries(test_answers, test_contexts)\n",
    "        \n",
    "        # Process test data with doc_stride\n",
    "        test_encoded = tokenizer(\n",
    "            test_questions,\n",
    "            test_contexts,\n",
    "            max_length=MAX_SEQ_LENGTH,\n",
    "            truncation=True,\n",
    "            padding=True,\n",
    "            stride=doc_stride,  # Using same doc_stride for test data\n",
    "            return_offsets_mapping=True,\n",
    "            return_token_type_ids=True\n",
    "        )\n",
    "        \n",
    "        test_start_positions, test_end_positions = locate_answer_spans(\n",
    "            test_encoded, test_answers, tokenizer, MAX_SEQ_LENGTH\n",
    "        )\n",
    "        test_encoded['start_positions'] = test_start_positions\n",
    "        test_encoded['end_positions'] = test_end_positions\n",
    "        \n",
    "        test_dataset = QADataset(test_encoded)\n",
    "        test_loader = DataLoader(test_dataset, batch_size=BATCH_SIZE)\n",
    "        \n",
    "        results = evaluate_qa_model(model, test_loader, tokenizer, device)\n",
    "        \n",
    "        print(f\"Results for {dataset_name}:\")\n",
    "        print(f\"F1 Score: {results['f1']:.2f}%\")\n",
    "        print(f\"EM Score: {results['exact_match']:.2f}%\")\n",
    "        \n",
    "        f.write(f\"Results for {dataset_name}:\\n\")\n",
    "        f.write(f\"F1 Score: {results['f1']:.2f}%\\n\")\n",
    "        f.write(f\"EM Score: {results['exact_match']:.2f}%\\n\\n\")\n",
    "    \n",
    "    f.write(\"========================================\\n\")\n",
    "    f.write(\"Evaluation completed successfully.\\n\")"
   ]
  }
 ],
 "metadata": {
  "kernelspec": {
   "display_name": "Python 3 (ipykernel)",
   "language": "python",
   "name": "python3"
  },
  "language_info": {
   "codemirror_mode": {
    "name": "ipython",
    "version": 3
   },
   "file_extension": ".py",
   "mimetype": "text/x-python",
   "name": "python",
   "nbconvert_exporter": "python",
   "pygments_lexer": "ipython3",
   "version": "3.11.5"
  }
 },
 "nbformat": 4,
 "nbformat_minor": 5
}
