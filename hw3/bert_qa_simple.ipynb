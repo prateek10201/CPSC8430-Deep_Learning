{
 "cells": [
  {
   "cell_type": "code",
   "execution_count": 1,
   "id": "858344c8-802a-4e24-bc51-827155bffed5",
   "metadata": {},
   "outputs": [
    {
     "name": "stderr",
     "output_type": "stream",
     "text": [
      "/software/slurm/spackages/linux-rocky8-x86_64/gcc-12.2.0/anaconda3-2023.09-0-3mhml42fa64byxqyd5fig5tbih625dp2/lib/python3.11/site-packages/transformers/utils/generic.py:260: FutureWarning: `torch.utils._pytree._register_pytree_node` is deprecated. Please use `torch.utils._pytree.register_pytree_node` instead.\n",
      "  torch.utils._pytree._register_pytree_node(\n"
     ]
    }
   ],
   "source": [
    "# Imports\n",
    "\n",
    "import os\n",
    "os.environ[\"TOKENIZERS_PARALLELISM\"] = \"false\"\n",
    "os.environ[\"PYTORCH_CUDA_ALLOC_CONF\"] = \"expandable_segments:True\"\n",
    "\n",
    "import torch\n",
    "from torch.utils.data import Dataset, DataLoader\n",
    "from torch.optim import AdamW\n",
    "from transformers import BertTokenizerFast, BertForQuestionAnswering\n",
    "from tqdm import tqdm\n",
    "import json\n",
    "import numpy as np\n",
    "import matplotlib.pyplot as plt\n",
    "from collections import Counter\n",
    "import re"
   ]
  },
  {
   "cell_type": "code",
   "execution_count": 2,
   "id": "882cdd44-ff34-4e72-8275-4335a841a6a9",
   "metadata": {},
   "outputs": [],
   "source": [
    "# Dataset Class\n",
    "\n",
    "class QADataset(Dataset):\n",
    "    def __init__(self, encoded_data):\n",
    "        self.encoded_data = {key: torch.tensor(val) for key, val in encoded_data.items()}\n",
    "    \n",
    "    def __getitem__(self, index):\n",
    "        return {key: val[index] for key, val in self.encoded_data.items()}\n",
    "    \n",
    "    def __len__(self):\n",
    "        return len(self.encoded_data['input_ids'])"
   ]
  },
  {
   "cell_type": "code",
   "execution_count": 3,
   "id": "f4c596de-61db-4545-82b6-2cec501d3c09",
   "metadata": {},
   "outputs": [],
   "source": [
    "# Functions to calculate F1 score and Exact Match Score\n",
    "\n",
    "def clean_text(text):\n",
    "    text = text.lower()\n",
    "    text = re.sub(r'\\s+', ' ', text).strip()\n",
    "    text = re.sub(r'[^a-z0-9\\s]', '', text)\n",
    "    return text\n",
    "\n",
    "def calculate_exact_match(pred, target):\n",
    "    return float(clean_text(pred) == clean_text(target))\n",
    "\n",
    "def calculate_f1_score(pred, target):\n",
    "    pred_words = clean_text(pred).split()\n",
    "    target_words = clean_text(target).split()\n",
    "    \n",
    "    if len(pred_words) == 0 or len(target_words) == 0:\n",
    "        return 0.0\n",
    "    \n",
    "    pred_set = set(pred_words)\n",
    "    target_set = set(target_words)\n",
    "    \n",
    "    common = len(pred_set & target_set)\n",
    "    if common == 0:\n",
    "        return 0.0\n",
    "        \n",
    "    prec = common / len(pred_set)\n",
    "    rec = common / len(target_set)\n",
    "    \n",
    "    if prec + rec == 0:\n",
    "        return 0.0\n",
    "    f1 = 2.0 * prec * rec / (prec + rec)\n",
    "    return f1"
   ]
  },
  {
   "cell_type": "code",
   "execution_count": 4,
   "id": "2353d9d1-f948-43a1-94fc-81839dbdfa84",
   "metadata": {},
   "outputs": [],
   "source": [
    "# Helper functions to read the json files, to fetch the data\n",
    "\n",
    "def load_qa_data(filepath):\n",
    "    with open(filepath, 'rb') as f:\n",
    "        raw_data = json.load(f)\n",
    "    \n",
    "    passages, queries, responses = [], [], []\n",
    "    for group in raw_data['data']:\n",
    "        for paragraph in group['paragraphs']:\n",
    "            passage = paragraph['context'].strip().lower()\n",
    "            for qa_pair in paragraph['qas']:\n",
    "                query = qa_pair['question'].strip().lower()\n",
    "                for response in qa_pair['answers']:\n",
    "                    passages.append(passage)\n",
    "                    queries.append(query)\n",
    "                    response['text'] = response['text'].lower().strip()\n",
    "                    responses.append(response)\n",
    "    return passages, queries, responses"
   ]
  },
  {
   "cell_type": "code",
   "execution_count": 5,
   "id": "76ed5289-acac-4c16-b4b3-19bb6d141dbb",
   "metadata": {},
   "outputs": [],
   "source": [
    "def prepare_qa_data(passages, queries, responses, tokenizer, seq_length=512):\n",
    "    passages = [p.strip() for p in passages]\n",
    "    queries = [q.strip() for q in queries]\n",
    "    \n",
    "    tokenized_data = tokenizer(queries, passages, \n",
    "                         max_length=seq_length,\n",
    "                         truncation=True, \n",
    "                         padding=True, \n",
    "                         return_offsets_mapping=True,\n",
    "                         return_token_type_ids=True)\n",
    "    \n",
    "    answer_starts, answer_ends = [], []\n",
    "    token_positions = tokenized_data.pop('offset_mapping')\n",
    "    \n",
    "    for idx, (positions, passage) in enumerate(zip(token_positions, passages)):\n",
    "        response_text = responses[idx]['text']\n",
    "        text_start = responses[idx]['answer_start']\n",
    "        text_end = text_start + len(response_text)\n",
    "        \n",
    "        sequence_markers = tokenized_data.sequence_ids(idx)\n",
    "        passage_start = sequence_markers.index(1)\n",
    "        passage_end = len(sequence_markers) - sequence_markers[::-1].index(1)\n",
    "        \n",
    "        if positions[passage_start][0] > text_end or positions[passage_end - 1][1] < text_start:\n",
    "            answer_starts.append(0)\n",
    "            answer_ends.append(0)\n",
    "            continue\n",
    "            \n",
    "        idx_pos = passage_start\n",
    "        while idx_pos < passage_end and positions[idx_pos][0] <= text_start:\n",
    "            idx_pos += 1\n",
    "        answer_starts.append(idx_pos - 1)\n",
    "        \n",
    "        idx_pos = passage_end - 1\n",
    "        while idx_pos >= passage_start and positions[idx_pos][1] >= text_end:\n",
    "            idx_pos -= 1\n",
    "        answer_ends.append(idx_pos + 1)\n",
    "    \n",
    "    tokenized_data['start_positions'] = answer_starts\n",
    "    tokenized_data['end_positions'] = answer_ends\n",
    "    return tokenized_data"
   ]
  },
  {
   "cell_type": "code",
   "execution_count": 6,
   "id": "8a10c9e3-a5e9-44ad-a759-92b5aecb64e1",
   "metadata": {},
   "outputs": [],
   "source": [
    "# Function used to train the model\n",
    "\n",
    "def train_qa_model(qa_model, data_loader, device, max_epochs=3, learning_rate=2e-5):\n",
    "    qa_model.to(device)\n",
    "    optimizer = AdamW(qa_model.parameters(), lr=learning_rate, weight_decay=0.01)\n",
    "    \n",
    "    training_stats = {'loss': [], 'accuracy': []}\n",
    "    \n",
    "    for epoch in range(max_epochs):\n",
    "        qa_model.train()\n",
    "        epoch_losses = []\n",
    "        epoch_accuracies = []\n",
    "        \n",
    "        with tqdm(data_loader, desc=f'Epoch {epoch + 1}/{max_epochs}') as progress_bar:\n",
    "            for batch_data in progress_bar:\n",
    "                optimizer.zero_grad()\n",
    "                \n",
    "                input_ids = batch_data['input_ids'].to(device)\n",
    "                attention_mask = batch_data['attention_mask'].to(device)\n",
    "                start_pos = batch_data['start_positions'].to(device)\n",
    "                end_pos = batch_data['end_positions'].to(device)\n",
    "                \n",
    "                model_output = qa_model(input_ids, \n",
    "                              attention_mask=attention_mask,\n",
    "                              start_positions=start_pos,\n",
    "                              end_positions=end_pos)\n",
    "                \n",
    "                batch_loss = model_output.loss\n",
    "                batch_loss.backward()\n",
    "                optimizer.step()\n",
    "                \n",
    "                pred_starts = model_output.start_logits.argmax(dim=1)\n",
    "                pred_ends = model_output.end_logits.argmax(dim=1)\n",
    "                batch_accuracy = ((pred_starts == start_pos).float().mean() + \n",
    "                          (pred_ends == end_pos).float().mean()) / 2\n",
    "                \n",
    "                epoch_losses.append(batch_loss.item())\n",
    "                epoch_accuracies.append(batch_accuracy.item())\n",
    "                \n",
    "                progress_bar.set_postfix({'loss': f'{batch_loss.item():.4f}', \n",
    "                                'accuracy': f'{batch_accuracy.item():.4f}'})\n",
    "        \n",
    "        avg_epoch_loss = np.mean(epoch_losses)\n",
    "        avg_epoch_accuracy = np.mean(epoch_accuracies)\n",
    "        training_stats['loss'].append(avg_epoch_loss)\n",
    "        training_stats['accuracy'].append(avg_epoch_accuracy)\n",
    "        \n",
    "        print(f'Epoch {epoch + 1} - Avg Loss: {avg_epoch_loss:.4f}, Avg Accuracy: {avg_epoch_accuracy:.4f}')\n",
    "    \n",
    "    return training_stats"
   ]
  },
  {
   "cell_type": "code",
   "execution_count": 7,
   "id": "7eb99c07-8cb7-403a-ab4d-f2827c601ead",
   "metadata": {},
   "outputs": [],
   "source": [
    "# Evaluating the model\n",
    "\n",
    "def evaluate_qa_model(qa_model, eval_loader, tokenizer, device):\n",
    "    qa_model.eval()\n",
    "    f1_scores = []\n",
    "    em_scores = []\n",
    "    \n",
    "    with torch.no_grad():\n",
    "        for batch_data in tqdm(eval_loader, desc='Evaluating'):\n",
    "            input_ids = batch_data['input_ids'].to(device)\n",
    "            attention_mask = batch_data['attention_mask'].to(device)\n",
    "            \n",
    "            model_output = qa_model(input_ids, attention_mask=attention_mask)\n",
    "            \n",
    "            start_logits = model_output.start_logits\n",
    "            end_logits = model_output.end_logits\n",
    "            \n",
    "            for i in range(len(input_ids)):\n",
    "                pred_start = torch.argmax(start_logits[i]).item()\n",
    "                pred_end = torch.argmax(end_logits[i]).item()\n",
    "                \n",
    "                if pred_end < pred_start:\n",
    "                    pred_end = pred_start\n",
    "                \n",
    "                if pred_end - pred_start > 30:\n",
    "                    pred_end = pred_start + 30\n",
    "                \n",
    "                predicted_tokens = input_ids[i][pred_start:pred_end + 1]\n",
    "                target_tokens = input_ids[i][batch_data['start_positions'][i]:batch_data['end_positions'][i] + 1]\n",
    "                \n",
    "                predicted_answer = tokenizer.decode(predicted_tokens, skip_special_tokens=True)\n",
    "                target_answer = tokenizer.decode(target_tokens, skip_special_tokens=True)\n",
    "                \n",
    "                if not predicted_answer.strip() or not target_answer.strip():\n",
    "                    continue\n",
    "                \n",
    "                f1 = calculate_f1_score(predicted_answer, target_answer)\n",
    "                em = calculate_exact_match(predicted_answer, target_answer)\n",
    "                \n",
    "                f1_scores.append(f1)\n",
    "                em_scores.append(em)\n",
    "    \n",
    "    if not f1_scores:\n",
    "        return {'f1': 0.0, 'exact_match': 0.0}\n",
    "    \n",
    "    return {\n",
    "        'f1': np.mean(f1_scores) * 100,\n",
    "        'exact_match': np.mean(em_scores) * 100\n",
    "    }"
   ]
  },
  {
   "cell_type": "code",
   "execution_count": 8,
   "id": "cb920d43-88b2-4bf3-bb62-bf38eebe0ff8",
   "metadata": {},
   "outputs": [],
   "source": [
    "def plot_training_metrics(metrics):\n",
    "    plt.figure(figsize=(10, 5))\n",
    "    \n",
    "    plt.subplot(1, 2, 1)\n",
    "    plt.plot(metrics['loss'])\n",
    "    plt.title('Training Loss')\n",
    "    plt.xlabel('Epoch')\n",
    "    plt.ylabel('Loss')\n",
    "    \n",
    "    plt.subplot(1, 2, 2)\n",
    "    plt.plot(metrics['accuracy'])\n",
    "    plt.title('Training Accuracy')\n",
    "    plt.xlabel('Epoch')\n",
    "    plt.ylabel('Accuracy')\n",
    "    \n",
    "    plt.tight_layout()\n",
    "    plt.savefig('training_metrics_simple_bert.png')\n",
    "    plt.show()\n",
    "    plt.close()"
   ]
  },
  {
   "cell_type": "code",
   "execution_count": 9,
   "id": "8da6c73b-1879-4bcb-9a5b-a40d3a4b70b4",
   "metadata": {
    "tags": []
   },
   "outputs": [
    {
     "name": "stdout",
     "output_type": "stream",
     "text": [
      "Using device: cuda\n"
     ]
    },
    {
     "name": "stderr",
     "output_type": "stream",
     "text": [
      "Some weights of BertForQuestionAnswering were not initialized from the model checkpoint at bert-base-uncased and are newly initialized: ['qa_outputs.weight', 'qa_outputs.bias']\n",
      "You should probably TRAIN this model on a down-stream task to be able to use it for predictions and inference.\n"
     ]
    },
    {
     "name": "stdout",
     "output_type": "stream",
     "text": [
      "Loading training data...\n",
      "Starting training...\n"
     ]
    },
    {
     "name": "stderr",
     "output_type": "stream",
     "text": [
      "Epoch 1/3: 100%|██████████| 2320/2320 [17:40<00:00,  2.19it/s, loss=2.0507, accuracy=0.4286]\n"
     ]
    },
    {
     "name": "stdout",
     "output_type": "stream",
     "text": [
      "Epoch 1 - Avg Loss: 1.9114, Avg Accuracy: 0.4938\n"
     ]
    },
    {
     "name": "stderr",
     "output_type": "stream",
     "text": [
      "Epoch 2/3: 100%|██████████| 2320/2320 [17:41<00:00,  2.19it/s, loss=0.5481, accuracy=0.8571]\n"
     ]
    },
    {
     "name": "stdout",
     "output_type": "stream",
     "text": [
      "Epoch 2 - Avg Loss: 1.0710, Avg Accuracy: 0.6800\n"
     ]
    },
    {
     "name": "stderr",
     "output_type": "stream",
     "text": [
      "Epoch 3/3: 100%|██████████| 2320/2320 [17:41<00:00,  2.19it/s, loss=0.5207, accuracy=0.9286]\n"
     ]
    },
    {
     "name": "stdout",
     "output_type": "stream",
     "text": [
      "Epoch 3 - Avg Loss: 0.7006, Avg Accuracy: 0.7768\n"
     ]
    },
    {
     "data": {
      "image/png": "[encoded data removed]",
      "text/plain": [
       "<Figure size 1000x500 with 2 Axes>"
      ]
     },
     "metadata": {},
     "output_type": "display_data"
    },
    {
     "name": "stdout",
     "output_type": "stream",
     "text": [
      "\n",
      "Evaluating on No Noise test set...\n"
     ]
    },
    {
     "name": "stderr",
     "output_type": "stream",
     "text": [
      "Evaluating: 100%|██████████| 993/993 [02:33<00:00,  6.47it/s]\n"
     ]
    },
    {
     "name": "stdout",
     "output_type": "stream",
     "text": [
      "Results for No Noise:\n",
      "F1 Score: 66.69%\n",
      "EM Score: 48.36%\n",
      "\n",
      "Evaluating on WER 44 test set...\n"
     ]
    },
    {
     "name": "stderr",
     "output_type": "stream",
     "text": [
      "Evaluating: 100%|██████████| 1116/1116 [02:52<00:00,  6.46it/s]\n"
     ]
    },
    {
     "name": "stdout",
     "output_type": "stream",
     "text": [
      "Results for WER 44:\n",
      "F1 Score: 25.87%\n",
      "EM Score: 4.77%\n",
      "\n",
      "Evaluating on WER 54 test set...\n"
     ]
    },
    {
     "name": "stderr",
     "output_type": "stream",
     "text": [
      "Evaluating: 100%|██████████| 1116/1116 [02:52<00:00,  6.46it/s]"
     ]
    },
    {
     "name": "stdout",
     "output_type": "stream",
     "text": [
      "Results for WER 54:\n",
      "F1 Score: 20.91%\n",
      "EM Score: 2.88%\n"
     ]
    },
    {
     "name": "stderr",
     "output_type": "stream",
     "text": [
      "\n"
     ]
    }
   ],
   "source": [
    "device = torch.device('cuda' if torch.cuda.is_available() else 'cpu')\n",
    "print(f\"Using device: {device}\")\n",
    "\n",
    "MODEL_TYPE = 'bert-base-uncased'\n",
    "MAX_SEQ_LENGTH = 512\n",
    "BATCH_SIZE = 16\n",
    "NUM_EPOCHS = 3\n",
    "LR = 2e-5\n",
    "\n",
    "tokenizer = BertTokenizerFast.from_pretrained(MODEL_TYPE)\n",
    "qa_model = BertForQuestionAnswering.from_pretrained(MODEL_TYPE)\n",
    "\n",
    "# Load and process training data\n",
    "print(\"Loading training data...\")\n",
    "train_passages, train_queries, train_responses = load_qa_data('spoken_train-v1.1.json')\n",
    "train_encoded = prepare_qa_data(train_passages, train_queries, train_responses, tokenizer)\n",
    "train_dataset = QADataset(train_encoded)\n",
    "train_loader = DataLoader(train_dataset, batch_size=BATCH_SIZE, shuffle=True)\n",
    "\n",
    "# Train the model\n",
    "print(\"Starting training...\")\n",
    "training_metrics = train_qa_model(qa_model, train_loader, device, NUM_EPOCHS, LR)\n",
    "plot_training_metrics(training_metrics)\n",
    "\n",
    "# Evaluate on test sets\n",
    "test_files = [\n",
    "    ('No Noise', 'spoken_test-v1.1.json'),\n",
    "    ('WER 44', 'spoken_test-v1.1_WER44.json'),\n",
    "    ('WER 54', 'spoken_test-v1.1_WER54.json')\n",
    "]\n",
    "\n",
    "# Saving results\n",
    "with open('qa_evaluation_results_bert.txt', 'w') as f:\n",
    "    f.write(\"Question Answering Evaluation Results\\n\")\n",
    "    f.write(\"===================================\\n\\n\")\n",
    "    \n",
    "    for test_name, test_file in test_files:\n",
    "        print(f\"\\nEvaluating on {test_name} test set...\")\n",
    "        test_passages, test_queries, test_responses = load_qa_data(test_file)\n",
    "        test_encoded = prepare_qa_data(test_passages, test_queries, test_responses, tokenizer)\n",
    "        test_dataset = QADataset(test_encoded)\n",
    "        test_loader = DataLoader(test_dataset, batch_size=BATCH_SIZE)\n",
    "        \n",
    "        results = evaluate_qa_model(qa_model, test_loader, tokenizer, device)\n",
    "        \n",
    "        # Print to console\n",
    "        print(f\"Results for {test_name}:\")\n",
    "        print(f\"F1 Score: {results['f1']:.2f}%\")\n",
    "        print(f\"EM Score: {results['exact_match']:.2f}%\")\n",
    "        \n",
    "        # Write to file\n",
    "        f.write(f\"Results for {test_name}:\\n\")\n",
    "        f.write(f\"F1 Score: {results['f1']:.2f}%\\n\")\n",
    "        f.write(f\"EM Score: {results['exact_match']:.2f}%\\n\\n\")\n",
    "    \n",
    "    f.write(\"===================================\\n\")\n",
    "    f.write(\"Evaluation completed successfully.\\n\")"
   ]
  }
 ],
 "metadata": {
  "kernelspec": {
   "display_name": "Python 3 (ipykernel)",
   "language": "python",
   "name": "python3"
  },
  "language_info": {
   "codemirror_mode": {
    "name": "ipython",
    "version": 3
   },
   "file_extension": ".py",
   "mimetype": "text/x-python",
   "name": "python",
   "nbconvert_exporter": "python",
   "pygments_lexer": "ipython3",
   "version": "3.11.5"
  }
 },
 "nbformat": 4,
 "nbformat_minor": 5
}
