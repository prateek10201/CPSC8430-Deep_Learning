{
  "cells": [
    {
      "cell_type": "code",
      "execution_count": 30,
      "id": "4e1979e1-1793-4eb0-8425-87c46a27d259",
      "metadata": {
        "tags": [],
        "id": "4e1979e1-1793-4eb0-8425-87c46a27d259"
      },
      "outputs": [],
      "source": [
        "import requests\n",
        "import json\n",
        "import torch\n",
        "import torch.nn as nn\n",
        "import os\n",
        "from tqdm import tqdm\n",
        "import transformers\n",
        "from evaluate import load\n",
        "from transformers import BertTokenizerFast, AdamW, BertForQuestionAnswering, AutoTokenizer, AutoModelForQuestionAnswering\n",
        "from torch.utils.data import Dataset, DataLoader\n",
        "from torch.optim.lr_scheduler import ExponentialLR\n",
        "import matplotlib.pyplot as plt\n",
        "from collections import Counter\n",
        "import numpy as np"
      ]
    },
    {
      "cell_type": "code",
      "source": [
        "# Configuration\n",
        "class QAConfig:\n",
        "\n",
        "    MODEL_NAME = \"deepset/bert-base-uncased-squad2\"\n",
        "    MAX_SEQ_LENGTH = 512\n",
        "\n",
        "    # Training settings\n",
        "    BATCH_SIZE = 16\n",
        "    LEARNING_RATE = 2e-5\n",
        "    WEIGHT_DECAY = 2e-2\n",
        "    NUM_EPOCHS = 3\n",
        "\n",
        "    # File names\n",
        "    TRAIN_FILE = \"spoken_train-v1.1.json\"\n",
        "    TEST_FILE = \"spoken_test-v1.1.json\"\n",
        "    TEST_FILE_WER44 = \"spoken_test-v1.1_WER44.json\"\n",
        "    TEST_FILE_WER54 = \"spoken_test-v1.1_WER54.json\"\n",
        "\n",
        "    # Output files\n",
        "    PLOT_FILE = \"training_metrics_bert_pretrained.png\"\n",
        "\n",
        "    # Device\n",
        "    DEVICE = torch.device('cuda' if torch.cuda.is_available() else 'cpu')"
      ],
      "metadata": {
        "id": "_I3T2VWcEKmJ"
      },
      "id": "_I3T2VWcEKmJ",
      "execution_count": 31,
      "outputs": []
    },
    {
      "cell_type": "code",
      "execution_count": 32,
      "id": "290a62b2-e4d1-4ffc-b067-48a6c682cfbb",
      "metadata": {
        "id": "290a62b2-e4d1-4ffc-b067-48a6c682cfbb"
      },
      "outputs": [],
      "source": [
        "# Data Loading Function\n",
        "def load_squad_data(path):\n",
        "    contexts = []\n",
        "    questions = []\n",
        "    answers = []\n",
        "\n",
        "    with open(path, 'rb') as file:\n",
        "        raw_data = json.load(file)\n",
        "\n",
        "    for group in raw_data['data']:\n",
        "        for paragraph in group['paragraphs']:\n",
        "            context = paragraph['context']\n",
        "            for qa in paragraph['qas']:\n",
        "                question = qa['question']\n",
        "                for answer in qa['answers']:\n",
        "                    contexts.append(context.lower())\n",
        "                    questions.append(question.lower())\n",
        "                    answers.append(answer)\n",
        "\n",
        "    return contexts, questions, answers"
      ]
    },
    {
      "cell_type": "code",
      "execution_count": 33,
      "id": "25481c54-4b97-45d3-ac18-733cb3753d35",
      "metadata": {
        "colab": {
          "base_uri": "https://localhost:8080/"
        },
        "id": "25481c54-4b97-45d3-ac18-733cb3753d35",
        "outputId": "d230cd33-e57e-4d7f-8cce-b5e32d5e60ed"
      },
      "outputs": [
        {
          "output_type": "stream",
          "name": "stdout",
          "text": [
            "Training Data: what is in front of the notre dame main building?, {'answer_start': 187, 'text': 'a copper statue of christ'}\n",
            "Testing Data: which nfl team represented the afc at super bowl 50?, {'answer_start': 190, 'text': 'denver broncos'}\n",
            "Testing Data_44: which nfl team represented the afc at super bowl 50?, {'answer_start': 177, 'text': 'Denver Broncos'}\n",
            "Testing Data_54: which nfl team represented the afc at super bowl 50?, {'answer_start': 177, 'text': 'Denver Broncos'}\n"
          ]
        }
      ],
      "source": [
        "# Loading training data\n",
        "train_contexts, train_questions, train_answers = load_squad_data(QAConfig.TRAIN_FILE)\n",
        "print(f\"Training Data: {train_questions[0]}, {train_answers[0]}\")\n",
        "\n",
        "# Loading testing data\n",
        "test_contexts, test_questions, test_answers = load_squad_data(QAConfig.TEST_FILE)\n",
        "print(f\"Testing Data: {test_questions[0]}, {test_answers[0]}\")\n",
        "\n",
        "# Loading testing WER 44 data\n",
        "test_contexts_44, test_questions_44, test_answers_44 = load_squad_data(QAConfig.TEST_FILE_WER44)\n",
        "print(f\"Testing Data_44: {test_questions_44[0]}, {test_answers_44[0]}\")\n",
        "\n",
        "# Loading testing WER 54 data\n",
        "test_contexts_54, test_questions_54, test_answers_54 = load_squad_data(QAConfig.TEST_FILE_WER54)\n",
        "print(f\"Testing Data_54: {test_questions_54[0]}, {test_answers_54[0]}\")"
      ]
    },
    {
      "cell_type": "code",
      "execution_count": 34,
      "id": "22707d16-1e4a-43a9-b00d-3987f8d6bfdf",
      "metadata": {
        "id": "22707d16-1e4a-43a9-b00d-3987f8d6bfdf"
      },
      "outputs": [],
      "source": [
        "# Computing Answer Boundaries\n",
        "def compute_answer_boundaries(answers, contexts):\n",
        "    for answer, context in zip(answers, contexts):\n",
        "        answer['text'] = answer['text'].lower()\n",
        "        expected_answer = answer['text']\n",
        "        start_idx = answer['answer_start']\n",
        "        end_idx = start_idx + len(expected_answer)\n",
        "\n",
        "        if context[start_idx:end_idx] == expected_answer:\n",
        "            answer['answer_end'] = end_idx\n",
        "        else:\n",
        "            for offset in [1, 2]:\n",
        "                if context[start_idx - offset:end_idx - offset] == expected_answer:\n",
        "                    answer['answer_start'] = start_idx - offset\n",
        "                    answer['answer_end'] = end_idx - offset\n",
        "                    break\n",
        "\n",
        "\n",
        "compute_answer_boundaries(train_answers, train_contexts)\n",
        "compute_answer_boundaries(test_answers, test_contexts)\n",
        "compute_answer_boundaries(test_answers_44, test_contexts_44)\n",
        "compute_answer_boundaries(test_answers_54, test_contexts_54)"
      ]
    },
    {
      "cell_type": "code",
      "execution_count": 35,
      "id": "653d526c-f903-43f6-ac7e-d2ca1656edfd",
      "metadata": {
        "id": "653d526c-f903-43f6-ac7e-d2ca1656edfd"
      },
      "outputs": [],
      "source": [
        "# Applying Answer Boundary Computation\n",
        "compute_answer_boundaries(train_answers, train_contexts)\n",
        "compute_answer_boundaries(test_answers, test_contexts)\n",
        "compute_answer_boundaries(test_answers_44, test_contexts_44)\n",
        "compute_answer_boundaries(test_answers_44, test_contexts_44)"
      ]
    },
    {
      "cell_type": "code",
      "execution_count": 36,
      "id": "a4165ff6-ff0a-49c2-b0cb-e53111b3f0b0",
      "metadata": {
        "id": "a4165ff6-ff0a-49c2-b0cb-e53111b3f0b0"
      },
      "outputs": [],
      "source": [
        "# Initializing Tokenizer and Tokenize Data\n",
        "\n",
        "tokenizer = AutoTokenizer.from_pretrained(QAConfig.MODEL_NAME)\n",
        "\n",
        "train_encodings = tokenizer(train_questions, train_contexts,\n",
        "                          max_length=QAConfig.MAX_SEQ_LENGTH,\n",
        "                          truncation=True,\n",
        "                          padding=True)\n",
        "\n",
        "test_encodings = tokenizer(test_questions, test_contexts,\n",
        "                         max_length=QAConfig.MAX_SEQ_LENGTH,\n",
        "                         truncation=True,\n",
        "                         padding=True)\n",
        "\n",
        "test_encodings_44 = tokenizer(test_questions_44, test_contexts_44,\n",
        "                            max_length=QAConfig.MAX_SEQ_LENGTH,\n",
        "                            truncation=True,\n",
        "                            padding=True)\n",
        "\n",
        "test_encodings_54 = tokenizer(test_questions_54, test_contexts_54,\n",
        "                            max_length=QAConfig.MAX_SEQ_LENGTH,\n",
        "                            truncation=True,\n",
        "                            padding=True)"
      ]
    },
    {
      "cell_type": "code",
      "execution_count": 37,
      "id": "bd3af61c-4e8f-41a8-ac9f-bdfada1ec3d7",
      "metadata": {
        "id": "bd3af61c-4e8f-41a8-ac9f-bdfada1ec3d7"
      },
      "outputs": [],
      "source": [
        "# Extracting Answer Positions Function\n",
        "\n",
        "def extract_answer_positions(encodings, answers, tokenizer):\n",
        "    start_positions = []\n",
        "    end_positions = []\n",
        "\n",
        "    for idx in range(len(encodings['input_ids'])):\n",
        "        answer_text = answers[idx]['text']\n",
        "        answer_encoding = tokenizer(answer_text,\n",
        "                                  max_length=QAConfig.MAX_SEQ_LENGTH,\n",
        "                                  truncation=True,\n",
        "                                  padding=True)\n",
        "\n",
        "        found_start = False\n",
        "        for a in range(len(encodings['input_ids'][idx]) - len(answer_encoding['input_ids'])):\n",
        "            match = True\n",
        "            for i in range(1, len(answer_encoding['input_ids'])-1):\n",
        "                if answer_encoding['input_ids'][i] != encodings['input_ids'][idx][a + i]:\n",
        "                    match = False\n",
        "                    break\n",
        "            if match:\n",
        "                start_positions.append(a)\n",
        "                end_positions.append(a + len(answer_encoding['input_ids']) - 1)\n",
        "                found_start = True\n",
        "                break\n",
        "        if not found_start:\n",
        "            start_positions.append(0)\n",
        "            end_positions.append(0)\n",
        "\n",
        "    return start_positions, end_positions"
      ]
    },
    {
      "cell_type": "code",
      "execution_count": 38,
      "id": "5e0d5e14-4197-4a93-9f90-383b09ef08ec",
      "metadata": {
        "id": "5e0d5e14-4197-4a93-9f90-383b09ef08ec"
      },
      "outputs": [],
      "source": [
        "# Updating train encodings\n",
        "train_start_positions, train_end_positions = extract_answer_positions(train_encodings, train_answers, tokenizer)\n",
        "train_encodings.update({'start_positions': train_start_positions,\n",
        "                       'end_positions': train_end_positions})\n",
        "\n",
        "# Updating test encodings\n",
        "test_start_positions, test_end_positions = extract_answer_positions(test_encodings, test_answers, tokenizer)\n",
        "test_encodings.update({'start_positions': test_start_positions,\n",
        "                      'end_positions': test_end_positions})\n",
        "\n",
        "# Updating test WER 44 encodings\n",
        "test_start_positions_44, test_end_positions_44 = extract_answer_positions(test_encodings_44, test_answers_44, tokenizer)\n",
        "test_encodings_44.update({'start_positions': test_start_positions_44,\n",
        "                         'end_positions': test_end_positions_44})\n",
        "\n",
        "# Updating test WER 54 encodings\n",
        "test_start_positions_54, test_end_positions_54 = extract_answer_positions(test_encodings_54, test_answers_54, tokenizer)\n",
        "test_encodings_54.update({'start_positions': test_start_positions_54,\n",
        "                         'end_positions': test_end_positions_54})"
      ]
    },
    {
      "cell_type": "code",
      "execution_count": 39,
      "id": "6a971fd0-0e7e-4008-94e4-b85b19464f84",
      "metadata": {
        "id": "6a971fd0-0e7e-4008-94e4-b85b19464f84"
      },
      "outputs": [],
      "source": [
        "# Implemented Class for Dataset\n",
        "class QADataset(Dataset):\n",
        "    def __init__(self, encodings):\n",
        "        self.input_ids = torch.tensor(encodings['input_ids'])\n",
        "        self.token_type_ids = torch.tensor(encodings['token_type_ids'])\n",
        "        self.attention_mask = torch.tensor(encodings['attention_mask'])\n",
        "        self.start_positions = torch.tensor(encodings['start_positions'])\n",
        "        self.end_positions = torch.tensor(encodings['end_positions'])\n",
        "\n",
        "    def __getitem__(self, idx):\n",
        "        return {\n",
        "            'input_ids': self.input_ids[idx],\n",
        "            'token_type_ids': self.token_type_ids[idx],\n",
        "            'attention_mask': self.attention_mask[idx],\n",
        "            'start_positions': self.start_positions[idx],\n",
        "            'end_positions': self.end_positions[idx]\n",
        "        }\n",
        "\n",
        "    def __len__(self):\n",
        "        return len(self.input_ids)"
      ]
    },
    {
      "cell_type": "code",
      "execution_count": 40,
      "id": "cd1c2128-62a6-45cc-8fd2-7eff73257b06",
      "metadata": {
        "id": "cd1c2128-62a6-45cc-8fd2-7eff73257b06"
      },
      "outputs": [],
      "source": [
        "# Creating Dataset Instances and  from encodings\n",
        "train_dataset = QADataset(train_encodings)\n",
        "test_dataset = QADataset(test_encodings)\n",
        "test_dataset_44 = QADataset(test_encodings_44)\n",
        "test_dataset_54 = QADataset(test_encodings_54)"
      ]
    },
    {
      "cell_type": "code",
      "execution_count": 41,
      "id": "7d08788d-017e-4010-a94f-31b55bf78c1d",
      "metadata": {
        "id": "7d08788d-017e-4010-a94f-31b55bf78c1d"
      },
      "outputs": [],
      "source": [
        "# Loading Pre-trained Model\n",
        "\n",
        "qa_model = AutoModelForQuestionAnswering.from_pretrained(QAConfig.MODEL_NAME)"
      ]
    },
    {
      "cell_type": "code",
      "execution_count": 42,
      "id": "a0322743-6210-4f50-b0e1-45156f6c1130",
      "metadata": {
        "id": "a0322743-6210-4f50-b0e1-45156f6c1130"
      },
      "outputs": [],
      "source": [
        "# Training Function\n",
        "\n",
        "def train_qa_model(model, train_dataloader, num_epochs=QAConfig.NUM_EPOCHS):\n",
        "    model.to(QAConfig.DEVICE)\n",
        "    model.train()\n",
        "\n",
        "    optimizer = AdamW(model.parameters(),\n",
        "                     lr=QAConfig.LEARNING_RATE,\n",
        "                     weight_decay=QAConfig.WEIGHT_DECAY)\n",
        "\n",
        "    training_losses = []\n",
        "    training_accuracies = []\n",
        "\n",
        "    for epoch in range(num_epochs):\n",
        "        epoch_losses = []\n",
        "        epoch_accuracies = []\n",
        "        with tqdm(train_dataloader, desc=f'Epoch {epoch+1}') as t:\n",
        "\n",
        "            for batch in t:\n",
        "                optimizer.zero_grad()\n",
        "\n",
        "                input_ids = batch['input_ids'].to(QAConfig.DEVICE)\n",
        "                attention_mask = batch['attention_mask'].to(QAConfig.DEVICE)\n",
        "                token_type_ids = batch['token_type_ids'].to(QAConfig.DEVICE)\n",
        "                start_positions = batch['start_positions'].to(QAConfig.DEVICE)\n",
        "                end_positions = batch['end_positions'].to(QAConfig.DEVICE)\n",
        "\n",
        "                outputs = model(input_ids,\n",
        "                              attention_mask=attention_mask,\n",
        "                              start_positions=start_positions,\n",
        "                              token_type_ids=token_type_ids,\n",
        "                              end_positions=end_positions)\n",
        "\n",
        "                loss = outputs[0]\n",
        "                loss.backward()\n",
        "                optimizer.step()\n",
        "\n",
        "                # Calculate accuracy\n",
        "                start_logits, end_logits = outputs[1], outputs[2]\n",
        "                start_pred = start_logits.argmax(dim=1)\n",
        "                end_pred = end_logits.argmax(dim=1)\n",
        "                accuracy = ((start_pred == start_positions).float().mean() +\n",
        "                          (end_pred == end_positions).float().mean()) / 2\n",
        "\n",
        "                epoch_losses.append(loss.item())\n",
        "                epoch_accuracies.append(accuracy.item())\n",
        "\n",
        "                t.set_postfix_str(f'Loss: {loss.item():.4f}, Acc: {accuracy.item():.4f}')\n",
        "\n",
        "        training_losses.append(np.mean(epoch_losses))\n",
        "        training_accuracies.append(np.mean(epoch_accuracies))\n",
        "\n",
        "    return training_losses, training_accuracies"
      ]
    },
    {
      "cell_type": "code",
      "execution_count": 43,
      "id": "669bd66c-449b-4d18-8988-051b202dd6f7",
      "metadata": {
        "colab": {
          "base_uri": "https://localhost:8080/"
        },
        "id": "669bd66c-449b-4d18-8988-051b202dd6f7",
        "outputId": "3d052553-b427-4a74-a0a6-59e0eca9d453"
      },
      "outputs": [
        {
          "output_type": "stream",
          "name": "stderr",
          "text": [
            "/usr/local/lib/python3.10/dist-packages/transformers/optimization.py:591: FutureWarning: This implementation of AdamW is deprecated and will be removed in a future version. Use the PyTorch implementation torch.optim.AdamW instead, or set `no_deprecation_warning=True` to disable this warning\n",
            "  warnings.warn(\n",
            "Epoch 1: 100%|██████████| 2320/2320 [11:51<00:00,  3.26it/s, Loss: 0.5710, Acc: 0.7143]\n",
            "Epoch 2: 100%|██████████| 2320/2320 [11:51<00:00,  3.26it/s, Loss: 1.0765, Acc: 0.8571]\n",
            "Epoch 3: 100%|██████████| 2320/2320 [11:51<00:00,  3.26it/s, Loss: 0.3577, Acc: 0.8571]\n"
          ]
        }
      ],
      "source": [
        "# Training Model\n",
        "train_dataloader = DataLoader(train_dataset, batch_size=QAConfig.BATCH_SIZE, shuffle=True)\n",
        "training_losses, training_accuracies = train_qa_model(qa_model, train_dataloader)"
      ]
    },
    {
      "cell_type": "code",
      "execution_count": 44,
      "id": "55d782b7-a3fc-479e-8336-50288c5e0b8b",
      "metadata": {
        "id": "55d782b7-a3fc-479e-8336-50288c5e0b8b"
      },
      "outputs": [],
      "source": [
        "# Evaluation Metrics Function\n",
        "def compute_qa_metrics(predictions, references):\n",
        "    # Calculating F1\n",
        "    f1_scores = []\n",
        "    # Calculating EM\n",
        "    em_scores = []\n",
        "\n",
        "    for pred, ref in zip(predictions, references):\n",
        "        common = Counter(pred.split()) & Counter(ref.split())\n",
        "        num_same = sum(common.values())\n",
        "        if num_same == 0:\n",
        "            precision = recall = f1 = 0\n",
        "        else:\n",
        "            precision = num_same / len(pred.split())\n",
        "            recall = num_same / len(ref.split())\n",
        "            f1 = (2 * precision * recall) / (precision + recall)\n",
        "        f1_scores.append(f1)\n",
        "\n",
        "        em = 1.0 if pred.strip() == ref.strip() else 0.0\n",
        "        em_scores.append(em)\n",
        "\n",
        "    avg_f1_score = (sum(f1_scores) / len(f1_scores)) * 100\n",
        "    avg_em_score = (sum(em_scores) / len(em_scores)) * 100\n",
        "    return avg_f1_score, avg_em_score"
      ]
    },
    {
      "cell_type": "code",
      "execution_count": 45,
      "id": "8c71d4a5-390f-44e3-ba93-569e949b8cad",
      "metadata": {
        "id": "8c71d4a5-390f-44e3-ba93-569e949b8cad"
      },
      "outputs": [],
      "source": [
        "# Evaluating Model\n",
        "\n",
        "def evaluate_qa_model(model, test_dataloader):\n",
        "    model.eval()\n",
        "    predictions = []\n",
        "    references = []\n",
        "\n",
        "    with torch.no_grad():\n",
        "        for batch in test_dataloader:\n",
        "            input_ids = batch['input_ids'].to(QAConfig.DEVICE)\n",
        "            attention_mask = batch['attention_mask'].to(QAConfig.DEVICE)\n",
        "            token_type_ids = batch['token_type_ids'].to(QAConfig.DEVICE)\n",
        "            start_positions = batch['start_positions'].to(QAConfig.DEVICE)\n",
        "            end_positions = batch['end_positions'].to(QAConfig.DEVICE)\n",
        "\n",
        "            outputs = model(input_ids,\n",
        "                          attention_mask=attention_mask,\n",
        "                          start_positions=start_positions,\n",
        "                          token_type_ids=token_type_ids,\n",
        "                          end_positions=end_positions)\n",
        "\n",
        "            start_logits, end_logits = outputs[1], outputs[2]\n",
        "            start_pred = start_logits.argmax(dim=1)\n",
        "            end_pred = end_logits.argmax(dim=1)\n",
        "\n",
        "            for i in range(len(start_pred)):\n",
        "                start = start_pred[i].item()\n",
        "                end = end_pred[i].item()\n",
        "                predictions.append(tokenizer.decode(batch['input_ids'][i][start:end+1]))\n",
        "                references.append(tokenizer.decode(batch['input_ids'][i][batch['start_positions'][i]:batch['end_positions'][i]+1]))\n",
        "\n",
        "    f1_score, em_score = compute_qa_metrics(predictions, references)\n",
        "    return f1_score, em_score"
      ]
    },
    {
      "cell_type": "code",
      "execution_count": 46,
      "id": "961254aa-e717-4af7-bb19-36181e4b6ac1",
      "metadata": {
        "tags": [],
        "colab": {
          "base_uri": "https://localhost:8080/",
          "height": 838
        },
        "id": "961254aa-e717-4af7-bb19-36181e4b6ac1",
        "outputId": "d322735e-be3d-4dbe-89f4-20f688546deb"
      },
      "outputs": [
        {
          "output_type": "stream",
          "name": "stdout",
          "text": [
            "\n",
            "Question Answering Evaluation Results\n",
            "===================================\n",
            "\n",
            "Evaluating on No Noise test set...\n",
            "Evaluating on WER 44 test set...\n",
            "Evaluating on WER 54 test set...\n",
            "\n",
            "Final Results:\n",
            "===================================\n",
            "\n",
            "Results for No Noise:\n",
            "F1 Score: 73.03%\n",
            "EM Score: 51.09%\n",
            "\n",
            "Results for WER 44:\n",
            "F1 Score: 41.26%\n",
            "EM Score: 29.11%\n",
            "\n",
            "Results for WER 54:\n",
            "F1 Score: 31.11%\n",
            "EM Score: 22.99%\n",
            "\n",
            "===================================\n",
            "Evaluation completed successfully.\n"
          ]
        },
        {
          "output_type": "display_data",
          "data": {
            "text/plain": [
              "<Figure size 1200x500 with 2 Axes>"
            ],
            "image/png": "[encoded data removed]"
          },
          "metadata": {}
        },
        {
          "output_type": "stream",
          "name": "stdout",
          "text": [
            "\n",
            "Results saved to qa_evaluation_results_bert.txt\n",
            "Training curves saved to training_metrics_bert_pretrained.png\n"
          ]
        }
      ],
      "source": [
        "# Evaluating and Saving Results\n",
        "\n",
        "test_dataloader = DataLoader(test_dataset, batch_size=QAConfig.BATCH_SIZE)\n",
        "test_dataloader_44 = DataLoader(test_dataset_44, batch_size=QAConfig.BATCH_SIZE)\n",
        "test_dataloader_54 = DataLoader(test_dataset_54, batch_size=QAConfig.BATCH_SIZE)\n",
        "\n",
        "test_sets = [\n",
        "    (\"No Noise\", test_dataloader),\n",
        "    (\"WER 44\", test_dataloader_44),\n",
        "    (\"WER 54\", test_dataloader_54)\n",
        "]\n",
        "\n",
        "all_results = {}\n",
        "\n",
        "print(\"\\nQuestion Answering Evaluation Results\")\n",
        "print(\"===================================\\n\")\n",
        "\n",
        "with open('qa_evaluation_results_pretrained_bert.txt', 'w') as f:\n",
        "    f.write(\"Question Answering Evaluation Results\\n\")\n",
        "    f.write(\"===================================\\n\\n\")\n",
        "\n",
        "    for test_name, test_loader in test_sets:\n",
        "        print(f\"Evaluating on {test_name} test set...\")\n",
        "        f1_score, em_score = evaluate_qa_model(qa_model, test_loader)\n",
        "\n",
        "        all_results[test_name] = {'f1': f1_score, 'em': em_score}\n",
        "\n",
        "        f.write(f\"Results for {test_name}:\\n\")\n",
        "        f.write(f\"F1 Score: {f1_score:.2f}%\\n\")\n",
        "        f.write(f\"EM Score: {em_score:.2f}%\\n\\n\")\n",
        "\n",
        "    f.write(\"===================================\\n\")\n",
        "    f.write(\"Evaluation completed successfully.\\n\")\n",
        "\n",
        "\n",
        "print(\"\\nFinal Results:\")\n",
        "print(\"===================================\")\n",
        "for test_name in all_results:\n",
        "    print(f\"\\nResults for {test_name}:\")\n",
        "    print(f\"F1 Score: {all_results[test_name]['f1']:.2f}%\")\n",
        "    print(f\"EM Score: {all_results[test_name]['em']:.2f}%\")\n",
        "\n",
        "print(\"\\n===================================\")\n",
        "print(\"Evaluation completed successfully.\")\n",
        "\n",
        "\n",
        "plt.figure(figsize=(12, 5))\n",
        "\n",
        "# Loss curve\n",
        "plt.subplot(1, 2, 1)\n",
        "plt.plot(training_losses, marker='o')\n",
        "plt.title('Training Loss')\n",
        "plt.xlabel('Epoch')\n",
        "plt.ylabel('Loss')\n",
        "plt.grid(True)\n",
        "\n",
        "# Accuracy curve\n",
        "plt.subplot(1, 2, 2)\n",
        "plt.plot(training_accuracies, marker='o')\n",
        "plt.title('Training Accuracy')\n",
        "plt.xlabel('Epoch')\n",
        "plt.ylabel('Accuracy')\n",
        "plt.grid(True)\n",
        "\n",
        "plt.tight_layout()\n",
        "plt.savefig(QAConfig.PLOT_FILE)\n",
        "plt.show()\n",
        "plt.close()\n",
        "\n",
        "print(f\"\\nResults saved to qa_evaluation_results_bert.txt\")\n",
        "print(f\"Training curves saved to {QAConfig.PLOT_FILE}\")"
      ]
    }
  ],
  "metadata": {
    "kernelspec": {
      "display_name": "Python 3",
      "name": "python3"
    },
    "language_info": {
      "codemirror_mode": {
        "name": "ipython",
        "version": 3
      },
      "file_extension": ".py",
      "mimetype": "text/x-python",
      "name": "python",
      "nbconvert_exporter": "python",
      "pygments_lexer": "ipython3",
      "version": "3.11.5"
    },
    "colab": {
      "provenance": [],
      "machine_shape": "hm",
      "gpuType": "A100"
    },
    "accelerator": "GPU"
  },
  "nbformat": 4,
  "nbformat_minor": 5
}